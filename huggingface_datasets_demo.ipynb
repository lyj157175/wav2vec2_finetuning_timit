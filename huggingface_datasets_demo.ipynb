{
 "cells": [
  {
   "cell_type": "code",
   "execution_count": 2,
   "metadata": {},
   "outputs": [],
   "source": [
    "import os\n",
    "import pandas as pd\n",
    "from datasets import load_dataset"
   ]
  },
  {
   "cell_type": "code",
   "execution_count": 49,
   "metadata": {},
   "outputs": [],
   "source": [
    "# 以timit数据为例\n",
    "train_path = './data/train'\n",
    "test_path = './data/test'"
   ]
  },
  {
   "cell_type": "code",
   "execution_count": 50,
   "metadata": {},
   "outputs": [],
   "source": [
    "train_files = os.listdir(train_path)\n",
    "test_files = os.listdir(test_path)"
   ]
  },
  {
   "cell_type": "code",
   "execution_count": 52,
   "metadata": {},
   "outputs": [],
   "source": [
    "wav_name = []\n",
    "txt_name = []\n",
    "for i in train_files:\n",
    "    train_files_path = train_path + '/' + i\n",
    "#     print(train_files_path)\n",
    "    trains = os.listdir(train_files_path)\n",
    "#     print(trains)\n",
    "    for j in trains:\n",
    "        file = train_files_path + '/' + j\n",
    "        if j.endswith('.wav'):\n",
    "            wav_name.append(file)\n",
    "        if j.endswith('TXT'):\n",
    "            with open(file, 'r', encoding='utf-8') as f:\n",
    "                lines = f.readlines()\n",
    "                for line in lines:\n",
    "                    txt = ' '.join(line.strip().split()[2:])\n",
    "                    txt_name.append(txt)\n",
    "\n",
    "c = zip(wav_name, txt_name)\n",
    "for i, (j,k) in enumerate(c):\n",
    "#     print(i, j, k)\n",
    "    with open('train.txt', 'a', encoding='utf-8') as f:\n",
    "        f.write(str(i) + ',' + j + ',' + k + '\\n')"
   ]
  },
  {
   "cell_type": "code",
   "execution_count": 32,
   "metadata": {},
   "outputs": [],
   "source": [
    "# txt to csv"
   ]
  },
  {
   "cell_type": "code",
   "execution_count": 53,
   "metadata": {},
   "outputs": [],
   "source": [
    "import pandas as pd\n",
    "train = \"./train.txt\"\n",
    "test = \"./test.txt\"\n",
    "\n",
    "def get_csv(file):\n",
    "    df = pd.read_csv(file, delimiter=\",\",names=['id','file','text'])\n",
    "    # df.columns = ['id','file','text']\n",
    "#     df[u'file'] = df[u'file'].apply(lambda x :x.replace(\"data1\", \"tsdata\"))\n",
    "#     df[u'text'] = df[u'text'].apply(lambda x :\" \".join(x))\n",
    "    df.to_csv(f\"{file}.csv\", encoding='utf_8_sig', index=False)\n",
    "    return df\n",
    "train = get_csv(train)\n",
    "test = get_csv(test)"
   ]
  },
  {
   "cell_type": "code",
   "execution_count": 3,
   "metadata": {},
   "outputs": [
    {
     "name": "stderr",
     "output_type": "stream",
     "text": [
      "Using custom data configuration default-68a4a49481825350\n"
     ]
    },
    {
     "name": "stdout",
     "output_type": "stream",
     "text": [
      "Downloading and preparing dataset csv/default (download: Unknown size, generated: Unknown size, post-processed: Unknown size, total: Unknown size) to C:\\Users\\lyj157175\\.cache\\huggingface\\datasets\\csv\\default-68a4a49481825350\\0.0.0\\2dc6629a9ff6b5697d82c25b73731dd440507a69cbce8b425db50b751e8fcfd0...\n"
     ]
    },
    {
     "data": {
      "application/vnd.jupyter.widget-view+json": {
       "model_id": "",
       "version_major": 2,
       "version_minor": 0
      },
      "text/plain": [
       "HBox(children=(FloatProgress(value=1.0, bar_style='info', layout=Layout(width='20px'), max=1.0), HTML(value=''…"
      ]
     },
     "metadata": {},
     "output_type": "display_data"
    },
    {
     "data": {
      "application/vnd.jupyter.widget-view+json": {
       "model_id": "",
       "version_major": 2,
       "version_minor": 0
      },
      "text/plain": [
       "HBox(children=(FloatProgress(value=1.0, bar_style='info', layout=Layout(width='20px'), max=1.0), HTML(value=''…"
      ]
     },
     "metadata": {},
     "output_type": "display_data"
    },
    {
     "name": "stdout",
     "output_type": "stream",
     "text": [
      "Dataset csv downloaded and prepared to C:\\Users\\lyj157175\\.cache\\huggingface\\datasets\\csv\\default-68a4a49481825350\\0.0.0\\2dc6629a9ff6b5697d82c25b73731dd440507a69cbce8b425db50b751e8fcfd0. Subsequent calls will reuse this data.\n",
      "DatasetDict({\n",
      "    train: Dataset({\n",
      "        features: ['id', 'file', 'text'],\n",
      "        num_rows: 4620\n",
      "    })\n",
      "    test: Dataset({\n",
      "        features: ['file', 'id', 'text'],\n",
      "        num_rows: 1680\n",
      "    })\n",
      "})\n"
     ]
    }
   ],
   "source": [
    "train_csv = \"./train.txt.csv\"\n",
    "test_csv = \"./test.txt.csv\"\n",
    "dataset = load_dataset('csv', data_files={'train': train_csv, 'test': test_csv})\n",
    "print(dataset)"
   ]
  },
  {
   "cell_type": "code",
   "execution_count": null,
   "metadata": {},
   "outputs": [],
   "source": []
  }
 ],
 "metadata": {
  "kernelspec": {
   "display_name": "Python 3",
   "language": "python",
   "name": "python3"
  },
  "language_info": {
   "codemirror_mode": {
    "name": "ipython",
    "version": 3
   },
   "file_extension": ".py",
   "mimetype": "text/x-python",
   "name": "python",
   "nbconvert_exporter": "python",
   "pygments_lexer": "ipython3",
   "version": "3.8.5"
  }
 },
 "nbformat": 4,
 "nbformat_minor": 4
}
